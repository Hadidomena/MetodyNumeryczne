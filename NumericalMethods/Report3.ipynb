{
 "cells": [
  {
   "cell_type": "markdown",
   "id": "87fbacd2",
   "metadata": {},
   "source": [
    "## Report3\n",
    "\n",
    "**Date:** 2024-05-26  \n",
    "**Author:** Piotr Szepietowski"
   ]
  },
  {
   "cell_type": "markdown",
   "id": "7b80eb7f",
   "metadata": {},
   "source": [
    "## External Python Libraries Used\n",
    "\n",
    "    - Numpy\n",
    "    - matplotlib\n",
    "    - scipy"
   ]
  },
  {
   "cell_type": "markdown",
   "id": "237d0242",
   "metadata": {},
   "source": [
    "## Task 1\n",
    "The task is to implement the power method to determine the condition number of a matrix. It should be a function that takes a matrix and returns:\n",
    "\n",
    "    - the computed condition number\n",
    "    - the condition number from the built-in function\n",
    "    - the difference between the methods"
   ]
  },
  {
   "cell_type": "markdown",
   "id": "2a362a94",
   "metadata": {},
   "source": [
    "## Implementation of the Power Method\n",
    "\n",
    "The method has been implemented as the function `power_method_cond()`, which takes a matrix $A$ and optional parameters `tol` (corresponding to the threshold value determining convergence) and `max_iter` (specifying the maximum number of iterations).  \n",
    "It returns the result for the power method, the built-in function, and the difference between the results.  \n",
    "When calculating eigenvalues, it uses the Rayleigh quotient.  \n",
    "The `solve` function from `scipy` (solving systems of equations) is used to implement the inverse power method to improve calculations. Thanks to these improvements, it was also possible to minimize problems with operations for non-diagonalized matrices.\n",
    "\n",
    "---\n",
    "\n",
    "### Description of the power method for calculating the condition number of a matrix\n",
    "\n",
    "The condition number of a matrix $A$ (in the 2-norm) is defined as the ratio of the largest to the smallest singular value of the matrix:\n",
    "\n",
    "$$\n",
    "\\kappa(A) = \\frac{\\sigma_{\\max}(A)}{\\sigma_{\\min}(A)}\n",
    "$$\n",
    "\n",
    "where $\\sigma_{\\max}(A)$ and $\\sigma_{\\min}(A)$ are the largest and smallest singular values of the matrix $A$, respectively.\n",
    "\n",
    "#### Power method\n",
    "\n",
    "1. **Largest eigenvalue**  \n",
    "    The power method allows approximating the largest eigenvalue of the matrix $A^T A$, which equals the square of the largest singular value $\\sigma_{\\max}^2$.  \n",
    "    We iteratively determine the vector $b_k$ and the eigenvalue $\\lambda_{\\max}$:\n",
    "    $$\n",
    "    b_{k+1} = \\frac{A^T A b_k}{\\|A^T A b_k\\|}\n",
    "    $$\n",
    "    $$\n",
    "    \\lambda_{\\max} = b_k^T (A^T A b_k)\n",
    "    $$\n",
    "    Then $\\sigma_{\\max} = \\sqrt{\\lambda_{\\max}}$.\n",
    "\n",
    "2. **Smallest eigenvalue (inverse power method)**  \n",
    "    We determine the smallest eigenvalue $\\lambda_{\\min}$ by applying the inverse power method, i.e., solving the system $A^T A y = c_k$ in each iteration.  \n",
    "    $\\sigma_{\\min} = \\sqrt{\\lambda_{\\min}}$.\n",
    "\n",
    "3. **Calculation of the condition number**  \n",
    "    Finally:\n",
    "    $$\n",
    "    \\kappa(A) = \\frac{\\sigma_{\\max}}{\\sigma_{\\min}}\n",
    "    $$\n",
    "\n",
    "#### Advantages and limitations\n",
    "\n",
    "- The power method is simple and effective for large, sparse matrices.\n",
    "- The accuracy of determining the smallest eigenvalue may be limited, especially for matrices with very large condition numbers or close to singularity.\n",
    "- In practice, for matrices with very small or very large elements, the method may be less accurate than built-in numerical algorithms.\n",
    "\n",
    "---\n",
    "\n",
    "**Summary:**  \n",
    "The power method allows for approximate determination of the condition number of a matrix by iteratively estimating the largest and smallest eigenvalues of the matrix $A^T A$, which corresponds to the largest and smallest singular values of the matrix $A$."
   ]
  },
  {
   "cell_type": "code",
   "execution_count": null,
   "id": "a9821a26",
   "metadata": {},
   "outputs": [],
   "source": [
    "import numpy as np\n",
    "from scipy.linalg import solve\n",
    "\n",
    "def power_method_cond(A, tol=1e-10, max_iter=1000):\n",
    "    n = A.shape[0]\n",
    "    \n",
    "    try:\n",
    "        test_vec = np.ones(n)\n",
    "        solve(A, test_vec)\n",
    "    except np.linalg.LinAlgError:\n",
    "        return np.inf, np.inf, 0.0\n",
    "    \n",
    "    ATA = A.T @ A\n",
    "    b_k = np.random.rand(n)\n",
    "    b_k = b_k / np.linalg.norm(b_k)\n",
    "    \n",
    "    lambda_max_prev = 0\n",
    "    for _ in range(max_iter):\n",
    "        Ab_k = ATA @ b_k\n",
    "        lambda_max = np.dot(b_k, Ab_k)\n",
    "        b_k_next = Ab_k / np.linalg.norm(Ab_k)\n",
    "        \n",
    "        if abs(lambda_max - lambda_max_prev) < tol:\n",
    "            break\n",
    "            \n",
    "        lambda_max_prev = lambda_max\n",
    "        b_k = b_k_next\n",
    "    \n",
    "    sigma_max = np.sqrt(lambda_max)\n",
    "    \n",
    "    c_k = np.random.rand(n)\n",
    "    c_k = c_k / np.linalg.norm(c_k)\n",
    "    \n",
    "    lambda_min_prev = np.inf\n",
    "    for _ in range(max_iter):\n",
    "        try:\n",
    "            y = solve(ATA, c_k)\n",
    "        except np.linalg.LinAlgError:\n",
    "            return np.inf, np.inf, 0.0\n",
    "            \n",
    "        lambda_min_inv = np.dot(c_k, y)\n",
    "        \n",
    "        if lambda_min_inv == 0:\n",
    "            return np.inf, np.inf, 0.0\n",
    "            \n",
    "        lambda_min = 1.0 / lambda_min_inv\n",
    "        c_k_next = y / np.linalg.norm(y)\n",
    "        if abs(lambda_min - lambda_min_prev) < tol:\n",
    "            break\n",
    "            \n",
    "        lambda_min_prev = lambda_min\n",
    "        c_k = c_k_next\n",
    "    \n",
    "    sigma_min = np.sqrt(lambda_min)\n",
    "    cond_power = sigma_max / sigma_min\n",
    "    cond_builtin = np.linalg.cond(A)\n",
    "    diff = abs(cond_power - cond_builtin)\n",
    "    \n",
    "    return cond_power, cond_builtin, diff\n",
    "\n",
    "A = np.array([[2, 1], [1, 3]])\n",
    "cond_power, cond_builtin, diff = power_method_cond(A)\n",
    "print(\"Condition number (power method):\", cond_power)\n",
    "print(\"Condition number (built-in function):\", cond_builtin)\n",
    "print(\"Difference:\", diff)\n",
    "\n",
    "A = np.random.rand(10, 10)\n",
    "cond_power, cond_builtin, diff = power_method_cond(A)\n",
    "print(\"Condition number (power method):\", cond_power)\n",
    "print(\"Condition number (built-in function):\", cond_builtin)\n",
    "print(\"Difference:\", diff)"
   ]
  },
  {
   "cell_type": "markdown",
   "id": "47d46de7",
   "metadata": {},
   "source": [
    "## Testing methods on the given C matrix\n",
    "$$\n",
    "C = \\begin{bmatrix}\n",
    "4 & 2 & -5 & 2 \\\\\n",
    "1 & 5 & 3 & 9 \\\\\n",
    "2 & 2 & 5 & -7 \\\\\n",
    "1 & 4 & -1 & 1 \\\\\n",
    "\\end{bmatrix}\n",
    "$$"
   ]
  },
  {
   "cell_type": "code",
   "execution_count": null,
   "id": "f5f19402",
   "metadata": {},
   "outputs": [],
   "source": [
    "C = np.array([[4,2,-5,2], [1,5,3,9], [2,2,5,-7],[1,4,-1,1]])\n",
    "\n",
    "cond_power, cond_builtin, diff = power_method_cond(C)\n",
    "print(\"Condition number (power method):\", cond_power)\n",
    "print(\"Condition number (built-in function):\", cond_builtin)\n",
    "print(\"Difference:\", diff)"
   ]
  },
  {
   "cell_type": "markdown",
   "id": "4caae204",
   "metadata": {},
   "source": [
    "## Task 2 \n",
    "Using the created function, investigate the influence of matrix size and type on the method's efficiency and the obtained condition numbers."
   ]
  },
  {
   "cell_type": "markdown",
   "id": "4043e0ae",
   "metadata": {},
   "source": [
    "## Testing methods on random matrices of increasing size\n",
    "The methods are called on random matrices of increasing sizes to examine the results depending on matrix size."
   ]
  },
  {
   "cell_type": "code",
   "execution_count": null,
   "id": "080a5d60",
   "metadata": {},
   "outputs": [],
   "source": [
    "import matplotlib.pyplot as plt\n",
    "\n",
    "sizes = [x for x in range(2, 21, 2)] + [x for x in range(30, 101, 10)] + [x for x in range(150, 1001, 50)] + [x for x in range(1001, 3001, 100)]\n",
    "cond_powers = []\n",
    "cond_builtins = []\n",
    "diffs = []\n",
    "\n",
    "for n in sizes:\n",
    "    A_rand = np.random.rand(n, n)\n",
    "    cond_power, cond_builtin, diff = power_method_cond(A_rand)\n",
    "    cond_powers.append(cond_power)\n",
    "    cond_builtins.append(cond_builtin)\n",
    "    diffs.append(diff)\n",
    "\n",
    "fig, axes = plt.subplots(1, 2, figsize=(18, 6))\n",
    "\n",
    "axes[0].plot(sizes, cond_powers, marker='o', label='Power method')\n",
    "axes[0].plot(sizes, cond_builtins, marker='x', label='Built-in function')\n",
    "axes[0].set_xlabel('Matrix size')\n",
    "axes[0].set_ylabel('Condition number')\n",
    "axes[0].set_title('Comparison of condition number')\n",
    "axes[0].legend()\n",
    "axes[0].grid(True)\n",
    "\n",
    "axes[1].plot(sizes, diffs, marker='s', color='red')\n",
    "axes[1].set_xlabel('Matrix size')\n",
    "axes[1].set_ylabel('Difference')\n",
    "axes[1].set_title('Difference between methods')\n",
    "axes[1].grid(True)\n",
    "\n",
    "plt.tight_layout()\n",
    "plt.show()"
   ]
  },
  {
   "cell_type": "markdown",
   "id": "ae7603b2",
   "metadata": {},
   "source": [
    "## Conclusions\n",
    "With the given implementation, the results of both methods are quite similar.\n",
    "The graph of the difference between method results closely corresponds to peaks in both methods' results, suggesting a decrease in calculation accuracy for larger coefficients."
   ]
  },
  {
   "cell_type": "code",
   "execution_count": null,
   "id": "25da7f7c",
   "metadata": {},
   "outputs": [],
   "source": [
    "# Plot of proportion of difference to coefficient value (power method)\n",
    "proportion = [d / cp if cp != 0 else 0 for d, cp in zip(diffs, cond_powers)]\n",
    "\n",
    "plt.figure(figsize=(10, 6))\n",
    "plt.plot(sizes, proportion, marker='o')\n",
    "plt.xlabel('Matrix size')\n",
    "plt.ylabel('Difference / Coefficient (power method)')\n",
    "plt.title('Proportion of difference to condition number value')\n",
    "plt.grid(True)\n",
    "plt.show()"
   ]
  },
  {
   "cell_type": "markdown",
   "id": "cd3b916d",
   "metadata": {},
   "source": [
    "Apart from a significant increase in the difference relative to the coefficient value at the very end of the range, the graph confirms the existence of a greater difference for coefficients with higher values."
   ]
  },
  {
   "cell_type": "markdown",
   "id": "90244ebb",
   "metadata": {},
   "source": [
    "## Investigation of methods based on matrix type"
   ]
  },
  {
   "cell_type": "markdown",
   "id": "54dad4a6",
   "metadata": {},
   "source": [
    "## Hilbert matrix and near-singular matrix"
   ]
  },
  {
   "cell_type": "code",
   "execution_count": null,
   "id": "d7a39683",
   "metadata": {},
   "outputs": [],
   "source": [
    "# Hilbert matrix 4x4\n",
    "H = np.array([[1/(i+j+1) for j in range(4)] for i in range(4)])\n",
    "cond_power, cond_builtin, diff = power_method_cond(H)\n",
    "print(\"Hilbert 4x4:\")\n",
    "print(\"Condition number (power method):\", cond_power)\n",
    "print(\"Condition number (built-in function):\", cond_builtin)\n",
    "print(\"Difference:\", diff)\n",
    "\n",
    "# Near-singular matrix (e.g., two very similar columns)\n",
    "B = np.array([[1, 1, 1], [2, 2.000001, 2], [3, 3, 3.000001]])\n",
    "cond_power, cond_builtin, diff = power_method_cond(B)\n",
    "print(\"\\nNear-singular 3x3:\")\n",
    "print(\"Condition number (power method):\", cond_power)\n",
    "print(\"Condition number (built-in function):\", cond_builtin)\n",
    "print(\"Difference:\", diff)"
   ]
  },
  {
   "cell_type": "markdown",
   "id": "bb5888fc",
   "metadata": {},
   "source": [
    "The method returns very accurate results for the Hilbert matrix, while the result for the near-singular matrix differs significantly."
   ]
  },
  {
   "cell_type": "markdown",
   "id": "6ecd7018",
   "metadata": {},
   "source": [
    "## Matrices with different numerical scales"
   ]
  },
  {
   "cell_type": "code",
   "execution_count": null,
   "id": "a8eb5416",
   "metadata": {},
   "outputs": [],
   "source": [
    "# Matrix with very small elements (order of 1e-10)\n",
    "small_scale = np.array([[1e-10, 2e-10], [3e-10, 4e-10]])\n",
    "cond_power_small, cond_builtin_small, diff_small = power_method_cond(small_scale)\n",
    "print(\"Very small values (1e-10):\")\n",
    "print(\"Condition number (power method):\", cond_power_small)\n",
    "print(\"Condition number (built-in function):\", cond_builtin_small)\n",
    "print(\"Difference:\", diff_small)\n",
    "\n",
    "# Matrix with very large elements (order of 1e+10)\n",
    "large_scale = np.array([[1e+10, 2e+10], [3e+10, 4e+10]])\n",
    "cond_power_large, cond_builtin_large, diff_large = power_method_cond(large_scale)\n",
    "print(\"\\nVery large values (1e+10):\")\n",
    "print(\"Condition number (power method):\", cond_power_large)\n",
    "print(\"Condition number (built-in function):\", cond_builtin_large)\n",
    "print(\"Difference:\", diff_large)"
   ]
  },
  {
   "cell_type": "markdown",
   "id": "b1dcf6d3",
   "metadata": {},
   "source": [
    "For small values, the differences are significantly larger than for a very similar matrix with large elements."
   ]
  }
 ],
 "metadata": {
  "language_info": {
   "name": "python"
  }
 },
 "nbformat": 4,
 "nbformat_minor": 5
}
