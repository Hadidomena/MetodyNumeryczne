{
 "cells": [
  {
   "cell_type": "markdown",
   "id": "c0642b03",
   "metadata": {},
   "source": [
    "## Sprawozdanie1\n",
    "\n",
    "**Data:** 2024-05-19  \n",
    "**Autor:** Piotr Szepietowski"
   ]
  },
  {
   "cell_type": "markdown",
   "id": "b4074818",
   "metadata": {},
   "source": [
    "## Zadania działu 1\n",
    "\n",
    "## Zadanie 1\n",
    "Utwórz macierze **A** i **B** oraz wektor **f** określone jako:\n",
    "$$\n",
    "A = \\begin{bmatrix}\n",
    "2 & -7 \\\\\n",
    "5 & 4 \\\\\n",
    "\\end{bmatrix} \n",
    "B = \\begin{bmatrix}\n",
    "6 & 1 \\\\\n",
    "4 & -3 \\\\\n",
    "\\end{bmatrix} \n",
    "f = \\begin{bmatrix}\n",
    "4 \\\\\n",
    "1 \\\\\n",
    "\\end{bmatrix} \n",
    "$$"
   ]
  },
  {
   "cell_type": "code",
   "execution_count": 14,
   "id": "6041fbf1",
   "metadata": {},
   "outputs": [
    {
     "name": "stdout",
     "output_type": "stream",
     "text": [
      "A = [[ 2 -7]\n",
      " [ 5  4]]\n",
      "B = [[ 6  1]\n",
      " [ 4 -3]]\n",
      "f = [[4 1]]\n"
     ]
    }
   ],
   "source": [
    "import numpy as np\n",
    "\n",
    "A = np.array([[2, -7], [5, 4]])\n",
    "B = np.array([[6, 1], [4, -3]])\n",
    "f = np.array([[4, 1]])\n",
    "\n",
    "print(f\"A = {A}\")\n",
    "print(f\"B = {B}\")\n",
    "print(f\"f = {f}\")"
   ]
  },
  {
   "cell_type": "markdown",
   "id": "5ca638a0",
   "metadata": {},
   "source": [
    "## Zadanie 2\n",
    "\n",
    "**a.** Wyświetl rozmiar macierzy **A** oraz wektora **f**.  \n",
    "**b.** Dokonaj transpozycji macierzy **B**.  \n",
    "**c.** Oblicz wyrażenie: $(A + B)^2 + 2(A - B)$  \n",
    "**d.** Utwórz macierz $C = [A, B]$ oraz wektor $h = [f, f]$  \n",
    "**e.** Oblicz iloczyn $C \\cdot h$"
   ]
  },
  {
   "cell_type": "code",
   "execution_count": 15,
   "id": "48eb97dd",
   "metadata": {},
   "outputs": [
    {
     "name": "stdout",
     "output_type": "stream",
     "text": [
      "Rozmiar macierzy A: (2, 2)\n",
      "Rozmiar wektora f: (1, 2)\n",
      "Macierz B po transpozycji:\n",
      "[[ 6  4]\n",
      " [ 1 -3]]\n",
      "Wynik operacji (A + B)^2 + 2(A - B):\n",
      "[[  2 -70]\n",
      " [ 83 -39]]\n",
      "Macierz C = np.vstack((A, B))\n",
      "[[ 2 -7]\n",
      " [ 5  4]\n",
      " [ 6  1]\n",
      " [ 4 -3]]\n",
      "Wektor h = np.vstack((f.T, f.T))\n",
      "[[4]\n",
      " [1]\n",
      " [4]\n",
      " [1]]\n",
      "Macierz C.T * h:\n",
      "[[ 41]\n",
      " [-23]]\n",
      "Niemożliwe do obliczenia, ponieważ liczba kolumn macierzy C nie zgadza się z liczbą wierszy wektora h, więc mnożenie wykonano po transpozycji macierzy C.\n"
     ]
    }
   ],
   "source": [
    "# a\n",
    "print(f\"Rozmiar macierzy A: {A.shape}\")\n",
    "print(f\"Rozmiar wektora f: {f.shape}\")\n",
    "\n",
    "# b\n",
    "print(f\"Macierz B po transpozycji:\\n{B.T}\")\n",
    "\n",
    "# c\n",
    "print(f\"Wynik operacji (A + B)^2 + 2(A - B):\\n{np.linalg.matrix_power(A + B, 2) + 2 * (A - B)}\")\n",
    "\n",
    "# d\n",
    "C = np.vstack((A, B))\n",
    "print(f\"Macierz C = np.vstack((A, B))\\n{C}\")\n",
    "h = np.vstack((f.T, f.T))\n",
    "print(f\"Wektor h = np.vstack((f.T, f.T))\\n{h}\")\n",
    "\n",
    "# e\n",
    "print(f\"Macierz C.T * h:\\n{C.T @ h}\\nNiemożliwe do obliczenia, ponieważ liczba kolumn macierzy C nie zgadza się z liczbą wierszy wektora h, więc mnożenie wykonano po transpozycji macierzy C.\")"
   ]
  },
  {
   "cell_type": "markdown",
   "id": "83b15ba0",
   "metadata": {},
   "source": [
    "## Zadanie 3\n",
    "\n",
    "**a.** Wyświetl wszystkie zmienne lokalne.  \n",
    "**b.** Zapisz zmienne w pliku `dane`.  \n",
    "**c.** Usuń wszystkie zmienne.  \n",
    "**d.** Wyświetl zawartość katalogu roboczego."
   ]
  },
  {
   "cell_type": "code",
   "execution_count": 16,
   "id": "ae58c5c3",
   "metadata": {},
   "outputs": [
    {
     "name": "stdout",
     "output_type": "stream",
     "text": [
      "Zmienne lokalne: ['__name__', '__doc__', '__package__', '__loader__', '__spec__', '__builtin__', '__builtins__', '_ih', '_oh', '_dh', '_', '__', '___', '__vsc_ipynb_file__', '_i', '_ii', '_iii', '_i1', '_i2', '_i3', '_i4', '_i5', 'os', 'f_out', 'vars_to_delete', 'var', '_i6', 'np', 'x', 'Y', '_i7', 'math', 'e', '_i8', 'z', '_i9', 'ones', 'zeroes', 'random', '_i10', 'A', 'y', '_i11', 'i', 'j', '_i12', '_i13', 'display', 'n', '_i14', 'B', 'f', '_i15', 'C', 'h', '_i16']\n",
      "Zawartość katalogu domowego to: ['.git', '.venv', 'dane', 'Sprawozdanie1.ipynb', 'Sprawozdanie2.ipynb', 'Sprawozdanie3.ipynb']\n"
     ]
    }
   ],
   "source": [
    "import os\n",
    "\n",
    "# a. Wyświetl wszystkie zmienne lokalne\n",
    "print(\"Zmienne lokalne:\", list(locals().keys()))\n",
    "\n",
    "# b. Zapisz zmienne w pliku 'dane' jako tekst\n",
    "with open('dane', 'w') as f_out:\n",
    "    f_out.write(f\"Zmienne lokalne:\\n\")\n",
    "    for x in list(locals().keys()):\n",
    "        f_out.write(f\"{x}\\n\")\n",
    "\n",
    "# c. Usuń wszystkie zmienne\n",
    "vars_to_delete = [var for var in globals().keys() if not var.startswith(\"_\") and var not in [\"pickle\", \"f_out\", \"os\", \"types\"]]\n",
    "for var in vars_to_delete:\n",
    "    del globals()[var]\n",
    "\n",
    "# d. Wyświetl zawartość katalogu roboczego\n",
    "print(f\"Zawartość katalogu domowego to: {os.listdir()}\")"
   ]
  },
  {
   "cell_type": "markdown",
   "id": "99571969",
   "metadata": {},
   "source": [
    "## Zadanie 4\n",
    "\n",
    "**a.** Utwórz 24-elementowy wektor $x = [1, 2, \\ldots, 24]$.  \n",
    "**b.** Z wektora $x$ utwórz macierz $Y$ o postaci $6 \\times 4$."
   ]
  },
  {
   "cell_type": "code",
   "execution_count": 17,
   "id": "45f01e12",
   "metadata": {},
   "outputs": [
    {
     "name": "stdout",
     "output_type": "stream",
     "text": [
      "x = [ 1  2  3  4  5  6  7  8  9 10 11 12 13 14 15 16 17 18 19 20 21 22 23 24]\n",
      "Y = [[ 1  2  3  4  5  6]\n",
      " [ 7  8  9 10 11 12]\n",
      " [13 14 15 16 17 18]\n",
      " [19 20 21 22 23 24]]\n"
     ]
    }
   ],
   "source": [
    "import numpy as np\n",
    "x = np.array([x for x in range(1, 25)])\n",
    "print(f\"x = {x}\")\n",
    "\n",
    "Y = x.reshape(4, 6)\n",
    "print(f\"Y = {Y}\")\n"
   ]
  },
  {
   "cell_type": "markdown",
   "id": "122b4d2b",
   "metadata": {},
   "source": [
    "## Zadanie 5\n",
    "\n",
    "Oblicz:  \n",
    "**a.** $e^{2\\sin(2\\pi)}$  \n",
    "**b.** $\\cos\\left(\\frac{\\pi}{3}\\right)^4$  \n",
    "**c.** $\\ln(\\sqrt{5})$"
   ]
  },
  {
   "cell_type": "code",
   "execution_count": 18,
   "id": "21b659a6",
   "metadata": {},
   "outputs": [
    {
     "name": "stdout",
     "output_type": "stream",
     "text": [
      "a = 0.9999999999999996\n",
      "b = 0.06250000000000006\n",
      "c = 0.8047189562170503\n"
     ]
    }
   ],
   "source": [
    "import math\n",
    "e = math.e\n",
    "print(f\"a = {e ** (2 * math.sin(2 * math.pi))}\")\n",
    "print(f\"b = {math.cos(math.pi / 3) ** 4}\")\n",
    "print(f\"c = {math.log(math.sqrt(5))}\")"
   ]
  },
  {
   "cell_type": "markdown",
   "id": "bcf8ce9a",
   "metadata": {},
   "source": [
    "## Zadanie 6\n",
    "Oblicz:  \n",
    "**a.** moduł liczby zespolonej $z = 3 - 2j$  \n",
    "**b.** argument $z$  \n",
    "**c.** liczba zespolona sprzężona do $z$"
   ]
  },
  {
   "cell_type": "code",
   "execution_count": 19,
   "id": "50a4ca83",
   "metadata": {},
   "outputs": [
    {
     "name": "stdout",
     "output_type": "stream",
     "text": [
      "z = (3-2j)\n",
      "Mod(z) = 3.605551275463989\n",
      "Arg(z) = -0.5880026035475675\n",
      "Sprzężona z = (3+2j)\n"
     ]
    }
   ],
   "source": [
    "z = 3 - 2j\n",
    "print(f\"z = {z}\")\n",
    "print(f\"Mod(z) = {abs(z)}\")\n",
    "print(f\"Arg(z) = {math.atan2(z.imag, z.real)}\")\n",
    "print(f\"Sprzężona z = {z.conjugate()}\")"
   ]
  },
  {
   "cell_type": "markdown",
   "id": "c4cc787f",
   "metadata": {},
   "source": [
    "## Zadanie 7\n",
    "Utwórz macierze o rozmiarze 3x4: $$ $$\n",
    "**a.**  \n",
    "Macierz o elementach równych 1:  \n",
    "$$\n",
    "\\begin{bmatrix}\n",
    "1 & 1 & 1 & 1 \\\\\n",
    "1 & 1 & 1 & 1 \\\\\n",
    "1 & 1 & 1 & 1 \\\\\n",
    "\\end{bmatrix}\n",
    "$$\n",
    "\n",
    "**b.**  \n",
    "Macierz o elementach równych 0:  \n",
    "$$\n",
    "\\begin{bmatrix}\n",
    "0 & 0 & 0 & 0 \\\\\n",
    "0 & 0 & 0 & 0 \\\\\n",
    "0 & 0 & 0 & 0 \\\\\n",
    "\\end{bmatrix}\n",
    "$$\n",
    "\n",
    "**c.**  \n",
    "Macierz o argumentach pseudolosowych:  \n",
    "$$\n",
    "\\begin{bmatrix}\n",
    "x_{11} & x_{12} & x_{13} & x_{14} \\\\\n",
    "x_{21} & x_{22} & x_{23} & x_{24} \\\\\n",
    "x_{31} & x_{32} & x_{33} & x_{34} \\\\\n",
    "\\end{bmatrix}\n",
    "$$  \n",
    "gdzie $x_{ij}$ to liczby pseudolosowe."
   ]
  },
  {
   "cell_type": "code",
   "execution_count": 20,
   "id": "8644819f",
   "metadata": {},
   "outputs": [
    {
     "name": "stdout",
     "output_type": "stream",
     "text": [
      "Macierz jedynek:\n",
      "[[1. 1. 1. 1.]\n",
      " [1. 1. 1. 1.]\n",
      " [1. 1. 1. 1.]]\n",
      "Macierz zer:\n",
      "[[0. 0. 0. 0.]\n",
      " [0. 0. 0. 0.]\n",
      " [0. 0. 0. 0.]]\n",
      "Macierz pseudolosowych liczb:\n",
      "[[0.95209829 0.82598429 0.3315324  0.31462675]\n",
      " [0.28930604 0.93560357 0.33290845 0.7804975 ]\n",
      " [0.70909999 0.94944113 0.18082626 0.26733682]]\n"
     ]
    }
   ],
   "source": [
    "ones = np.ones((3, 4))\n",
    "print(f\"Macierz jedynek:\\n{ones}\")\n",
    "zeroes = np.zeros((3, 4))\n",
    "print(f\"Macierz zer:\\n{zeroes}\")\n",
    "random = np.random.rand(3, 4)\n",
    "print(f\"Macierz pseudolosowych liczb:\\n{random}\")"
   ]
  },
  {
   "cell_type": "markdown",
   "id": "6e3b2823",
   "metadata": {},
   "source": [
    "\n",
    "---\n",
    "## Zadania działu 2\n",
    "## Zadanie 1\n",
    "Utwórz macierz **A** o rozmiarze 6x6, gdzie  \n",
    "$$\n",
    "x_{ij} = \n",
    "\\begin{cases}\n",
    "\\frac{1}{i-j} & \\text{dla } i \\neq j \\\\\n",
    "0 & \\text{dla } i = j\n",
    "\\end{cases}\n",
    "$$"
   ]
  },
  {
   "cell_type": "code",
   "execution_count": 21,
   "id": "86062813",
   "metadata": {},
   "outputs": [
    {
     "name": "stdout",
     "output_type": "stream",
     "text": [
      "Macierz A:\n",
      "[[ 0.         -1.         -0.5        -0.33333333 -0.25       -0.2       ]\n",
      " [ 1.          0.         -1.         -0.5        -0.33333333 -0.25      ]\n",
      " [ 0.5         1.          0.         -1.         -0.5        -0.33333333]\n",
      " [ 0.33333333  0.5         1.          0.         -1.         -0.5       ]\n",
      " [ 0.25        0.33333333  0.5         1.          0.         -1.        ]\n",
      " [ 0.2         0.25        0.33333333  0.5         1.          0.        ]]\n"
     ]
    }
   ],
   "source": [
    "A = np.zeros((6, 6))\n",
    "for x in range(6):\n",
    "    for y in range(6):\n",
    "        if x != y:\n",
    "            A[x, y] = 1 / ( x - y )\n",
    "print(f\"Macierz A:\\n{A}\")"
   ]
  },
  {
   "cell_type": "markdown",
   "id": "ce7f3798",
   "metadata": {},
   "source": [
    "## Zadanie 2\n",
    "Wygeneruj macierz o rozmiarze 10x10 wypełnioną liczbami pseudolosowymi, wyświetl elementy macierzy z przedziału (0.2-0.5)."
   ]
  },
  {
   "cell_type": "code",
   "execution_count": 22,
   "id": "71bedcc6",
   "metadata": {},
   "outputs": [
    {
     "name": "stdout",
     "output_type": "stream",
     "text": [
      "A[0, 2] = 0.4864259717785895\n",
      "A[1, 4] = 0.27045481522920056\n",
      "A[1, 7] = 0.4115861243786135\n",
      "A[2, 1] = 0.46203290197118374\n",
      "A[2, 3] = 0.31263702296628415\n",
      "A[2, 4] = 0.27256638200211425\n",
      "A[3, 0] = 0.3010431561848387\n",
      "A[3, 2] = 0.35754359983358497\n",
      "A[3, 5] = 0.22588457197279954\n",
      "A[3, 8] = 0.26836139072749643\n",
      "A[4, 0] = 0.4568444461870932\n",
      "A[4, 3] = 0.4119729012884966\n",
      "A[4, 6] = 0.4899857253278559\n",
      "A[4, 8] = 0.24267532204699616\n",
      "A[4, 9] = 0.23038859571486425\n",
      "A[5, 0] = 0.3864799123519358\n",
      "A[5, 1] = 0.2385951725683776\n",
      "A[5, 5] = 0.2102934303416356\n",
      "A[6, 2] = 0.45668582943876046\n",
      "A[6, 4] = 0.45582552324353887\n",
      "A[7, 4] = 0.4492061464641832\n",
      "A[7, 9] = 0.23121297464719348\n",
      "A[8, 6] = 0.4963989390864719\n",
      "A[9, 1] = 0.41349354387558257\n",
      "A[9, 7] = 0.22761333931523864\n",
      "A[9, 9] = 0.35906551385686025\n"
     ]
    }
   ],
   "source": [
    "A = np.random.rand(10, 10)\n",
    "for i in range(10):\n",
    "    for j in range(10):\n",
    "        if A[i, j] < 0.5 and A[i, j] > 0.2:\n",
    "            print(f\"A[{i}, {j}] = {A[i, j]}\")"
   ]
  },
  {
   "cell_type": "markdown",
   "id": "14184e29",
   "metadata": {},
   "source": [
    "## Zadanie 3\n",
    "Napisz skrypt w języku Python, który:\n",
    "\n",
    "1. W pierwszych wierszach zawiera komentarz:\n",
    "   \n",
    "   ```\n",
    "   # Skrypt ten jest skryptem testowym\n",
    "   # Obliczane jest wyrazenie sin(a)*cos(b)\n",
    "   # gdzie a, b - dwie wczytane liczby\n",
    "   ```\n",
    "\n",
    "2. Wczytuje dwie liczby `a` i `b` od użytkownika za pomocą funkcji `input()`.\n",
    "\n",
    "3. Oblicza wartość wyrażenia `sin(a)*cos(b)` i wyświetla wynik."
   ]
  },
  {
   "cell_type": "code",
   "execution_count": 23,
   "id": "c27bc15e",
   "metadata": {},
   "outputs": [],
   "source": [
    "# Skrypt ten jest skryptem testowym\n",
    "# Obliczane jest wyrazenie sin(a)*cos(b)\n",
    "# gdzie a, b - dwie wczytane liczby\n",
    "\n",
    "# Zostaje zakomentowane ponieważ w jupyterze nie można używać input\n",
    "\n",
    "#a = float(input(\"Podaj liczbę a: \"))\n",
    "#b = float(input(\"Podaj liczbę b: \"))\n",
    "\n",
    "#wynik = math.sin(a) * math.cos(b)\n",
    "#print(f\"Wynik: {wynik}\")"
   ]
  },
  {
   "cell_type": "markdown",
   "id": "c8e21304",
   "metadata": {},
   "source": [
    "## Zadanie 4\n",
    "\n",
    "Napisz skrypt, którego zadaniem będzie prezentacja operacji na macierzach. W skrypcie wykonaj następujące polecenia:\n",
    "\n",
    "**a.** wczytaj:\n",
    "   - rozmiar macierzy (n),\n",
    "   - dwie macierze o rozmiarze n×n: A i B,\n",
    "\n",
    "**b.** oblicz:\n",
    "   - macierz odwrotną do A,\n",
    "   - transpozycję macierzy B,\n",
    "   - sumę macierzy – A+B,\n",
    "   - różnicę macierzy – A-B,\n",
    "   - iloczyn macierzowy – A·B,\n",
    "   - iloczyn macierzy A przez dowolną liczbę."
   ]
  },
  {
   "cell_type": "code",
   "execution_count": 24,
   "id": "3f4527a1",
   "metadata": {},
   "outputs": [
    {
     "name": "stdout",
     "output_type": "stream",
     "text": [
      "Macierz A:\n",
      "[[0.6345005  0.44175051 0.96595947]\n",
      " [0.69553147 0.55870423 0.6236622 ]\n",
      " [0.47891603 0.75611226 0.83867127]]\n",
      "Macierz B:\n",
      "[[0.63733517 0.31136622 0.91454876]\n",
      " [0.84687862 0.25042586 0.85211705]\n",
      " [0.87680645 0.59738913 0.3274754 ]]\n",
      "A odwrócona:\n",
      "[[-0.02452438  2.95241363 -2.16726064]\n",
      " [-2.33508993  0.57034933  2.26536543]\n",
      " [ 2.11922751 -2.20015446  0.3875956 ]]\n",
      "B po transpozycji:\n",
      "[[0.63733517 0.84687862 0.87680645]\n",
      " [0.31136622 0.25042586 0.59738913]\n",
      " [0.91454876 0.85211705 0.3274754 ]]\n",
      "Suma A + B:\n",
      "[[1.27183567 0.75311672 1.88050823]\n",
      " [1.54241009 0.8091301  1.47577925]\n",
      " [1.35572248 1.35350139 1.16614668]]\n",
      "Różnica A - B:\n",
      "[[-0.00283467  0.13038429  0.05141071]\n",
      " [-0.15134715  0.30827837 -0.22845485]\n",
      " [-0.39789042  0.15872313  0.51119587]]\n",
      "Iloczyn A * B:\n",
      "[[1.62545804 0.88524146 1.27303275]\n",
      " [1.46327238 0.72904802 1.31641288]\n",
      " [1.68091772 0.83948144 1.35693242]]\n",
      "Iloczyn macierzy A przez skalara 5:\n",
      "[[3.17250251 2.20875253 4.82979735]\n",
      " [3.47765735 2.79352116 3.11831102]\n",
      " [2.39458016 3.78056129 4.19335637]]\n"
     ]
    }
   ],
   "source": [
    "def display(n):\n",
    "    A = np.random.rand(n, n)\n",
    "    B = np.random.rand(n, n)\n",
    "    print(f\"Macierz A:\\n{A}\\nMacierz B:\\n{B}\")\n",
    "    print(f\"A odwrócona:\\n{np.linalg.inv(A)}\")\n",
    "    print(f\"B po transpozycji:\\n{B.T}\")\n",
    "    print(f\"Suma A + B:\\n{A + B}\")\n",
    "    print(f\"Różnica A - B:\\n{A - B}\")\n",
    "    print(f\"Iloczyn A * B:\\n{A @ B}\")\n",
    "    print(f\"Iloczyn macierzy A przez skalara 5:\\n{A * 5}\")    \n",
    "\n",
    "n = 3\n",
    "display(n)"
   ]
  },
  {
   "cell_type": "markdown",
   "id": "62fae4a6",
   "metadata": {},
   "source": [
    "## Zadanie 5\n",
    "Oblicz i porównaj czas wykonania dla dwóch metod:\n",
    "\n",
    "**a. Obliczenia w pętli (element po elemencie):**  \n",
    "Dla każdego punktu z przedziału od -10 do 10 z krokiem 0,001 oblicz wartość funkcji cosinus, zapisując wyniki do listy. Zmierz czas wykonania tej operacji.\n",
    "\n",
    "**b. Obliczenia tablicowe (jednorazowo):**  \n",
    "Oblicz wartości funkcji cosinus dla wszystkich punktów z przedziału od -10 do 10 z krokiem 0,001 jednocześnie, wykorzystując operacje na tablicach. Zmierz czas wykonania tej operacji."
   ]
  },
  {
   "cell_type": "code",
   "execution_count": 26,
   "id": "659585d0",
   "metadata": {},
   "outputs": [
    {
     "name": "stdout",
     "output_type": "stream",
     "text": [
      "Czas obliczeń w pętli: 0.0343 s\n",
      "Czas obliczeń tablicowych: 0.0004 s\n"
     ]
    }
   ],
   "source": [
    "import time\n",
    "\n",
    "x_points = np.arange(-10, 10.001, 0.001)\n",
    "\n",
    "start_loop = time.time()\n",
    "y_loop = []\n",
    "for xi in x_points:\n",
    "    y_loop.append(np.cos(xi))\n",
    "end_loop = time.time()\n",
    "print(f\"Czas obliczeń w pętli: {end_loop - start_loop:.4f} s\")\n",
    "\n",
    "start_vec = time.time()\n",
    "y_vec = np.cos(x_points)\n",
    "end_vec = time.time()\n",
    "print(f\"Czas obliczeń tablicowych: {end_vec - start_vec:.4f} s\")"
   ]
  },
  {
   "cell_type": "markdown",
   "id": "c1163a8c",
   "metadata": {},
   "source": [
    "## Zadanie 2.6\n",
    "\n",
    "Napisz funkcję **metrs**, dokonującą przeliczenia prędkości wyrażonej w [km/h] na prędkość w [m/s]."
   ]
  },
  {
   "cell_type": "code",
   "execution_count": 27,
   "id": "e8ddace3",
   "metadata": {},
   "outputs": [
    {
     "name": "stdout",
     "output_type": "stream",
     "text": [
      "Prędkość 90 km/h w m/s: 25.0\n"
     ]
    }
   ],
   "source": [
    "def metrs(velocity):\n",
    "    return velocity / 3.6\n",
    "\n",
    "print(f\"Prędkość 90 km/h w m/s: {metrs(90)}\")"
   ]
  },
  {
   "cell_type": "markdown",
   "id": "2adf07dc",
   "metadata": {},
   "source": [
    "\n",
    "---\n",
    "## Zadania działu 3\n",
    "## Zadanie 1\n",
    "Zapisz w pliku dane.bin 50-elementowy wektor liczb pseudolosowych."
   ]
  }
 ],
 "metadata": {
  "language_info": {
   "name": "python"
  }
 },
 "nbformat": 4,
 "nbformat_minor": 5
}
