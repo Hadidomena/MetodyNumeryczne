{
 "cells": [
  {
   "cell_type": "markdown",
   "id": "c0642b03",
   "metadata": {},
   "source": [
    "## Sprawozdanie1\n",
    "\n",
    "**Data:** 2024-05-19  \n",
    "**Autor:** Piotr Szepietowski"
   ]
  },
  {
   "cell_type": "markdown",
   "id": "b4074818",
   "metadata": {},
   "source": [
    "## Zadania działu 1\n",
    "\n",
    "## Zadanie 1\n",
    "Utwórz macierze **A** i **B** oraz wektor **f** określone jako:\n",
    "$$\n",
    "A = \\begin{bmatrix}\n",
    "2 & -7 \\\\\n",
    "5 & 4 \\\\\n",
    "\\end{bmatrix} \n",
    "B = \\begin{bmatrix}\n",
    "6 & 1 \\\\\n",
    "4 & -3 \\\\\n",
    "\\end{bmatrix} \n",
    "f = \\begin{bmatrix}\n",
    "4 \\\\\n",
    "1 \\\\\n",
    "\\end{bmatrix} \n",
    "$$"
   ]
  },
  {
   "cell_type": "code",
   "execution_count": 63,
   "id": "6041fbf1",
   "metadata": {},
   "outputs": [
    {
     "name": "stdout",
     "output_type": "stream",
     "text": [
      "A = [[ 2 -7]\n",
      " [ 5  4]]\n",
      "B = [[ 6  1]\n",
      " [ 4 -3]]\n",
      "f = [[4 1]]\n"
     ]
    }
   ],
   "source": [
    "import numpy as np\n",
    "\n",
    "A = np.array([[2, -7], [5, 4]])\n",
    "B = np.array([[6, 1], [4, -3]])\n",
    "f = np.array([[4, 1]])\n",
    "\n",
    "print(f\"A = {A}\")\n",
    "print(f\"B = {B}\")\n",
    "print(f\"f = {f}\")"
   ]
  },
  {
   "cell_type": "markdown",
   "id": "5ca638a0",
   "metadata": {},
   "source": [
    "## Zadanie 2\n",
    "\n",
    "**a.** Wyświetl rozmiar macierzy **A** oraz wektora **f**.  \n",
    "**b.** Dokonaj transpozycji macierzy **B**.  \n",
    "**c.** Oblicz wyrażenie: $(A + B)^2 + 2(A - B)$  \n",
    "**d.** Utwórz macierz $C = [A, B]$ oraz wektor $h = [f, f]$  \n",
    "**e.** Oblicz iloczyn $C \\cdot h$"
   ]
  },
  {
   "cell_type": "code",
   "execution_count": null,
   "id": "48eb97dd",
   "metadata": {},
   "outputs": [
    {
     "name": "stdout",
     "output_type": "stream",
     "text": [
      "Rozmiar macierzy A: (2, 2)\n",
      "Rozmiar wektora f: (1, 2)\n",
      "Macierz B po transpozycji:\n",
      "[[ 6  4]\n",
      " [ 1 -3]]\n",
      "Wynik operacji (A + B)^2 + 2(A - B):\n",
      "[[  2 -70]\n",
      " [ 83 -39]]\n",
      "Macierz C = np.vstack((A, B))\n",
      "[[ 2 -7]\n",
      " [ 5  4]\n",
      " [ 6  1]\n",
      " [ 4 -3]]\n",
      "Wektor h = np.vstack((f.T, f.T))\n",
      "[[4]\n",
      " [1]\n",
      " [4]\n",
      " [1]]\n",
      "Macierz C.T * h:\n",
      "[[ 41]\n",
      " [-23]]\n"
     ]
    }
   ],
   "source": [
    "# a\n",
    "print(f\"Rozmiar macierzy A: {A.shape}\")\n",
    "print(f\"Rozmiar wektora f: {f.shape}\")\n",
    "\n",
    "# b\n",
    "print(f\"Macierz B po transpozycji:\\n{B.T}\")\n",
    "\n",
    "# c\n",
    "print(f\"Wynik operacji (A + B)^2 + 2(A - B):\\n{np.linalg.matrix_power(A + B, 2) + 2 * (A - B)}\")\n",
    "\n",
    "# d\n",
    "C = np.vstack((A, B))\n",
    "print(f\"Macierz C = np.vstack((A, B))\\n{C}\")\n",
    "h = np.vstack((f.T, f.T))\n",
    "print(f\"Wektor h = np.vstack((f.T, f.T))\\n{h}\")\n",
    "\n",
    "# e\n",
    "print(f\"Macierz C.T * h:\\n{C.T @ h}\\nNiemożliwe do obliczenia, ponieważ liczba kolumn macierzy C nie zgadza się z liczbą wierszy wektora h, więc mnożenie wykonano po transpozycji macierzy C.\")"
   ]
  }
 ],
 "metadata": {
  "language_info": {
   "name": "python"
  }
 },
 "nbformat": 4,
 "nbformat_minor": 5
}
