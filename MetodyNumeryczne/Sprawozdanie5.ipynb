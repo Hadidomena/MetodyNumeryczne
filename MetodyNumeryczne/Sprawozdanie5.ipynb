{
 "cells": [
  {
   "cell_type": "markdown",
   "id": "300e7b94",
   "metadata": {},
   "source": [
    "## Sprawozdanie5\n",
    "\n",
    "**Data:** 2024-06-04\n",
    "**Autor:** Piotr Szepietowski"
   ]
  },
  {
   "cell_type": "markdown",
   "id": "4d2645d1",
   "metadata": {},
   "source": [
    "A = [[4,2,-1],[2,5,2],[-1,2,10]] \n",
    "b = [12, -8, 4]"
   ]
  },
  {
   "cell_type": "code",
   "execution_count": null,
   "id": "a3069253",
   "metadata": {},
   "outputs": [],
   "source": [
    "import numpy as np\n",
    "function [x] = conjgrad(A,b,x0)\n",
    "r = b - A*x0;\n",
    "w = -r;\n",
    "z = A*w;\n",
    "a = (r'*w)/(w'*z);\n",
    "x = x0 + a*w;\n",
    "\n",
    "for i = 1:size(A,1);\n",
    "    r = r - a*z;\n",
    "    if( norm(r) < 1e-10 )\n",
    "        break;\n",
    "    end\n",
    "    B = (r'*z)/(w'*z);\n",
    "    w = -r + B*w;\n",
    "    z = A*w;\n",
    "    a = (r'*w)/(w'*z);\n",
    "    x = x + a*w;\n",
    "end\n",
    "\n",
    "end\n",
    "\n",
    "def gradient(A, b):\n",
    "    x0 = [0 for x in range(len(b))]\n",
    "    r = b - A*x0\n",
    "    w = -1 * r\n",
    "    z = A * w\n",
    "    a = \n",
    "\n",
    "    for i in range(A)"
   ]
  }
 ],
 "metadata": {
  "kernelspec": {
   "display_name": ".venv",
   "language": "python",
   "name": "python3"
  },
  "language_info": {
   "name": "python",
   "version": "3.13.1"
  }
 },
 "nbformat": 4,
 "nbformat_minor": 5
}
