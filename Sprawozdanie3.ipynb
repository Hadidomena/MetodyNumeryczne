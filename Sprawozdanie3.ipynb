{
 "cells": [
  {
   "cell_type": "markdown",
   "id": "5e66a4c2",
   "metadata": {},
   "source": [
    "## Sprawozdanie3\n",
    "\n",
    "**Data:** 2024-05-26  \n",
    "**Autor:** Piotr Szepietowski"
   ]
  },
  {
   "cell_type": "markdown",
   "id": "9dcec32b",
   "metadata": {},
   "source": [
    "## Wykorzystywane dalej biblioteki zewnętrzne Pythona\n",
    "\n",
    "    - Numpy\n",
    "    - matplotlib"
   ]
  },
  {
   "cell_type": "markdown",
   "id": "ca7d6b9a",
   "metadata": {},
   "source": [
    "## Zadanie 1\n",
    "Zadaniem jest zaimplementowanie metody potegowej do wyznaczenia współczynnika uwarunkowania macierzy, powinna być funkcją przyjmującą macierz a zwracającą\n",
    "\n",
    "    - wyliczony współczynnik\n",
    "    - współczynnik z wbudowanej fukcji\n",
    "    - różnicę metod"
   ]
  },
  {
   "cell_type": "code",
   "execution_count": 24,
   "id": "722d814e",
   "metadata": {},
   "outputs": [
    {
     "name": "stdout",
     "output_type": "stream",
     "text": [
      "Współczynnik uwarunkowania (metoda potęgowa): 4.999999999999999\n",
      "Współczynnik uwarunkowania (wbudowana funkcja): 2.6180339887498953\n",
      "Różnica: 2.3819660112501038\n",
      "Współczynnik uwarunkowania (metoda potęgowa): 1.3445002637281165\n",
      "Współczynnik uwarunkowania (wbudowana funkcja): 35.41873679693157\n",
      "Różnica: 34.074236533203454\n"
     ]
    }
   ],
   "source": [
    "import numpy as np\n",
    "\n",
    "def power_method_cond(A, tol=1e-10, max_iter=1000):\n",
    "    n = A.shape[0]\n",
    "    b_k = np.random.rand(n)\n",
    "    for _ in range(max_iter):\n",
    "        b_k1 = np.dot(A, b_k)\n",
    "        b_k1_norm = np.linalg.norm(b_k1)\n",
    "        if b_k1_norm == 0:\n",
    "            break\n",
    "        b_k_next = b_k1 / b_k1_norm\n",
    "        if np.linalg.norm(b_k_next - b_k) < tol:\n",
    "            break\n",
    "        b_k = b_k_next\n",
    "    sigma_max = np.linalg.norm(np.dot(A, b_k))\n",
    "    try:\n",
    "        A_inv = np.linalg.inv(A)\n",
    "    except np.linalg.LinAlgError:\n",
    "        return np.inf, np.nan, np.nan\n",
    "\n",
    "    c_k = np.random.rand(n)\n",
    "    for _ in range(max_iter):\n",
    "        c_k1 = np.dot(A_inv, c_k)\n",
    "        c_k1_norm = np.linalg.norm(c_k1)\n",
    "        if c_k1_norm == 0:\n",
    "            break\n",
    "        c_k_next = c_k1 / c_k1_norm\n",
    "        if np.linalg.norm(c_k_next - c_k) < tol:\n",
    "            break\n",
    "        c_k = c_k_next\n",
    "    sigma_min = 1 / np.linalg.norm(np.dot(A, c_k))\n",
    "\n",
    "    cond_power = sigma_max / sigma_min\n",
    "    cond_builtin = np.linalg.cond(A)\n",
    "    diff = abs(cond_power - cond_builtin)\n",
    "    return cond_power, cond_builtin, diff\n",
    "\n",
    "A = np.array([[2, 1], [1, 3]])\n",
    "cond_power, cond_builtin, diff = power_method_cond(A)\n",
    "print(\"Współczynnik uwarunkowania (metoda potęgowa):\", cond_power)\n",
    "print(\"Współczynnik uwarunkowania (wbudowana funkcja):\", cond_builtin)\n",
    "print(\"Różnica:\", diff)\n",
    "\n",
    "A = np.random.rand(10, 10)\n",
    "cond_power, cond_builtin, diff = power_method_cond(A)\n",
    "print(\"Współczynnik uwarunkowania (metoda potęgowa):\", cond_power)\n",
    "print(\"Współczynnik uwarunkowania (wbudowana funkcja):\", cond_builtin)\n",
    "print(\"Różnica:\", diff)"
   ]
  },
  {
   "cell_type": "markdown",
   "id": "f39f2b7a",
   "metadata": {},
   "source": [
    "## Zadanie 2 \n",
    "Stosując stworzoną funkcję zbadaj wpływ rozmiaru i rodzaju macierzy na efektywność metody i uzyskiwane współczynniki uwarunkowania."
   ]
  },
  {
   "cell_type": "code",
   "execution_count": null,
   "id": "e8b897fb",
   "metadata": {},
   "outputs": [
    {
     "name": "stderr",
     "output_type": "stream",
     "text": [
      "C:\\Users\\szepiet33\\AppData\\Local\\Temp\\ipykernel_13484\\1620928688.py:31: RuntimeWarning: divide by zero encountered in scalar divide\n",
      "  sigma_min = 1 / np.linalg.norm(np.dot(A, c_k))\n"
     ]
    },
    {
     "ename": "LinAlgError",
     "evalue": "cond is not defined on empty arrays",
     "output_type": "error",
     "traceback": [
      "\u001b[31m---------------------------------------------------------------------------\u001b[39m",
      "\u001b[31mLinAlgError\u001b[39m                               Traceback (most recent call last)",
      "\u001b[36mCell\u001b[39m\u001b[36m \u001b[39m\u001b[32mIn[26]\u001b[39m\u001b[32m, line 11\u001b[39m\n\u001b[32m      8\u001b[39m \u001b[38;5;28;01mfor\u001b[39;00m n \u001b[38;5;129;01min\u001b[39;00m sizes:\n\u001b[32m      9\u001b[39m     \u001b[38;5;66;03m# Macierz losowa\u001b[39;00m\n\u001b[32m     10\u001b[39m     A_rand = np.random.rand(n, n)\n\u001b[32m---> \u001b[39m\u001b[32m11\u001b[39m     cond_power, cond_builtin, diff = \u001b[43mpower_method_cond\u001b[49m\u001b[43m(\u001b[49m\u001b[43mA_rand\u001b[49m\u001b[43m)\u001b[49m\n\u001b[32m     12\u001b[39m     cond_powers.append(cond_power)\n\u001b[32m     13\u001b[39m     cond_builtins.append(cond_builtin)\n",
      "\u001b[36mCell\u001b[39m\u001b[36m \u001b[39m\u001b[32mIn[24]\u001b[39m\u001b[32m, line 34\u001b[39m, in \u001b[36mpower_method_cond\u001b[39m\u001b[34m(A, tol, max_iter)\u001b[39m\n\u001b[32m     31\u001b[39m sigma_min = \u001b[32m1\u001b[39m / np.linalg.norm(np.dot(A, c_k))\n\u001b[32m     33\u001b[39m cond_power = sigma_max / sigma_min\n\u001b[32m---> \u001b[39m\u001b[32m34\u001b[39m cond_builtin = \u001b[43mnp\u001b[49m\u001b[43m.\u001b[49m\u001b[43mlinalg\u001b[49m\u001b[43m.\u001b[49m\u001b[43mcond\u001b[49m\u001b[43m(\u001b[49m\u001b[43mA\u001b[49m\u001b[43m)\u001b[49m\n\u001b[32m     35\u001b[39m diff = \u001b[38;5;28mabs\u001b[39m(cond_power - cond_builtin)\n\u001b[32m     36\u001b[39m \u001b[38;5;28;01mreturn\u001b[39;00m cond_power, cond_builtin, diff\n",
      "\u001b[36mFile \u001b[39m\u001b[32mc:\\Users\\szepiet33\\Documents\\Workspace\\MetodyNumeryczne\\.venv\\Lib\\site-packages\\numpy\\linalg\\_linalg.py:1969\u001b[39m, in \u001b[36mcond\u001b[39m\u001b[34m(x, p)\u001b[39m\n\u001b[32m   1967\u001b[39m x = asarray(x)  \u001b[38;5;66;03m# in case we have a matrix\u001b[39;00m\n\u001b[32m   1968\u001b[39m \u001b[38;5;28;01mif\u001b[39;00m _is_empty_2d(x):\n\u001b[32m-> \u001b[39m\u001b[32m1969\u001b[39m     \u001b[38;5;28;01mraise\u001b[39;00m LinAlgError(\u001b[33m\"\u001b[39m\u001b[33mcond is not defined on empty arrays\u001b[39m\u001b[33m\"\u001b[39m)\n\u001b[32m   1970\u001b[39m \u001b[38;5;28;01mif\u001b[39;00m p \u001b[38;5;129;01mis\u001b[39;00m \u001b[38;5;28;01mNone\u001b[39;00m \u001b[38;5;129;01mor\u001b[39;00m p == \u001b[32m2\u001b[39m \u001b[38;5;129;01mor\u001b[39;00m p == -\u001b[32m2\u001b[39m:\n\u001b[32m   1971\u001b[39m     s = svd(x, compute_uv=\u001b[38;5;28;01mFalse\u001b[39;00m)\n",
      "\u001b[31mLinAlgError\u001b[39m: cond is not defined on empty arrays"
     ]
    }
   ],
   "source": [
    "import matplotlib.pyplot as plt\n",
    "\n",
    "sizes =  [x for x in range(2, 21 ,2)] + [x for x in range(30, 101, 10)] + [[x for x in range(150, 1001 ,50)] ] \n",
    "cond_powers = []\n",
    "cond_builtins = []\n",
    "diffs = []\n",
    "\n",
    "for n in sizes:\n",
    "    # Macierz losowa\n",
    "    A_rand = np.random.rand(n, n)\n",
    "    cond_power, cond_builtin, diff = power_method_cond(A_rand)\n",
    "    cond_powers.append(cond_power)\n",
    "    cond_builtins.append(cond_builtin)\n",
    "    diffs.append(diff)\n",
    "\n",
    "plt.figure(figsize=(10, 6))\n",
    "plt.plot(sizes, cond_powers, marker='o', label='Metoda potęgowa')\n",
    "plt.plot(sizes, cond_builtins, marker='x', label='Wbudowana funkcja')\n",
    "plt.xlabel('Rozmiar macierzy')\n",
    "plt.ylabel('Współczynnik uwarunkowania')\n",
    "plt.title('Porównanie współczynnika uwarunkowania w zależności od rozmiaru macierzy')\n",
    "plt.legend()\n",
    "plt.grid(True)\n",
    "plt.show()\n",
    "\n",
    "plt.figure(figsize=(10, 6))\n",
    "plt.plot(sizes, diffs, marker='s', color='red')\n",
    "plt.xlabel('Rozmiar macierzy')\n",
    "plt.ylabel('Różnica')\n",
    "plt.title('Różnica między metodą potęgową a wbudowaną funkcją')\n",
    "plt.grid(True)\n",
    "plt.show()"
   ]
  }
 ],
 "metadata": {
  "kernelspec": {
   "display_name": ".venv",
   "language": "python",
   "name": "python3"
  },
  "language_info": {
   "codemirror_mode": {
    "name": "ipython",
    "version": 3
   },
   "file_extension": ".py",
   "mimetype": "text/x-python",
   "name": "python",
   "nbconvert_exporter": "python",
   "pygments_lexer": "ipython3",
   "version": "3.13.1"
  }
 },
 "nbformat": 4,
 "nbformat_minor": 5
}
